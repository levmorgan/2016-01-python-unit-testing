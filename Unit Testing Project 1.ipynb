{
 "cells": [
  {
   "cell_type": "code",
   "execution_count": null,
   "metadata": {
    "collapsed": false
   },
   "outputs": [],
   "source": [
    "# \\\\stlsevsprd01\\transfer\\public_dropbox\\UnitTesting_workshop\\2016_01_Python_Unit_Testing.zip\n",
    "import csv\n",
    "import operator\n",
    "import unittest\n",
    "import os"
   ]
  },
  {
   "cell_type": "code",
   "execution_count": null,
   "metadata": {
    "collapsed": true
   },
   "outputs": [],
   "source": [
    "def get_array_product(number_array):\n",
    "    return reduce(operator.mul, number_array)"
   ]
  },
  {
   "cell_type": "code",
   "execution_count": null,
   "metadata": {
    "collapsed": false
   },
   "outputs": [],
   "source": [
    "get_array_product([1,2,3,4,5])"
   ]
  },
  {
   "cell_type": "code",
   "execution_count": null,
   "metadata": {
    "collapsed": false
   },
   "outputs": [],
   "source": [
    "class TestGetArrayProduct(unittest.TestCase):\n",
    "    def test_get_array_product(self):\n",
    "        self.assertEqual(get_array_product([1,2]), 2)\n",
    "        self.assertEqual(get_array_product([2,2]), 4)\n",
    "        self.assertEqual(get_array_product([2]), 2)\n",
    "        \n",
    "        try:\n",
    "            get_array_product([])\n",
    "        except ValueError:\n",
    "            pass\n",
    "        else:\n",
    "            self.fail(\"An empty array has no product, should raise a ValueError\")"
   ]
  },
  {
   "cell_type": "code",
   "execution_count": null,
   "metadata": {
    "collapsed": false
   },
   "outputs": [],
   "source": [
    "test_suite = unittest.defaultTestLoader.loadTestsFromTestCase(TestGetArrayProduct)\n",
    "runner = unittest.TextTestRunner()\n",
    "runner.run(test_suite)"
   ]
  },
  {
   "cell_type": "code",
   "execution_count": null,
   "metadata": {
    "collapsed": true
   },
   "outputs": [],
   "source": [
    "def get_array_product(number_array):\n",
    "    if not number_array:\n",
    "        raise ValueError(\"number_array is empty. It should contain at least one number\")\n",
    "    return reduce(operator.mul, number_array)"
   ]
  },
  {
   "cell_type": "code",
   "execution_count": null,
   "metadata": {
    "collapsed": false
   },
   "outputs": [],
   "source": [
    "test_suite = unittest.defaultTestLoader.loadTestsFromTestCase(TestGetArrayQuotient)\n",
    "runner = unittest.TextTestRunner()\n",
    "runner.run(test_suite)"
   ]
  },
  {
   "cell_type": "code",
   "execution_count": null,
   "metadata": {
    "collapsed": true
   },
   "outputs": [],
   "source": [
    "\"\"\"\n",
    "Exercise 1!\n",
    "\n",
    "In this notebook or unit_testing_demo/step_1.py change get_array_product so that \n",
    "it will only accept an array of length 2 or greater. \n",
    "You can use python's len(some_array) method to get the length of an array.\n",
    "\"\"\""
   ]
  },
  {
   "cell_type": "code",
   "execution_count": null,
   "metadata": {
    "collapsed": true
   },
   "outputs": [],
   "source": [
    "class CsvNumberManipulator:\n",
    "    def __init__(self, infile_path):\n",
    "        self.infile_path = infile_path\n",
    "        \n",
    "    def read_infile(self):\n",
    "        try:\n",
    "            infile = open(self.infile_path, \"r\")\n",
    "            self.numbers_to_manipulate = [float(value) for row in csv.reader(infile) for value in row]\n",
    "        except Exception as e:\n",
    "            print(\"Got an exception \")\n",
    "            print(e)\n",
    "            raise\n",
    "            \n",
    "    def get_csv_product(self):\n",
    "        return reduce(operator.mul, self.numbers_to_manipulate)\n",
    "    \n",
    "    def get_csv_quotient(self):\n",
    "        return reduce(operator.div, self.numbers_to_manipulate)\n"
   ]
  },
  {
   "cell_type": "code",
   "execution_count": null,
   "metadata": {
    "collapsed": false
   },
   "outputs": [],
   "source": [
    "class TestCsvNumberManipulator(unittest.TestCase):\n",
    "    @classmethod\n",
    "    def setUpClass(self):\n",
    "        print(\"Running setUpClass\")\n",
    "        number_file = open(\"numbers.csv\", \"w\")\n",
    "        number_file.write(\"1,2,3,4,5\\n\")\n",
    "        number_file.close()\n",
    "        \n",
    "    def setUp(self):\n",
    "        print(\"Running setUp\")\n",
    "        self.csv_number_manipulator = CsvNumberManipulator(\"numbers.csv\")        \n",
    "        self.csv_number_manipulator.read_infile()\n",
    "    \n",
    "    def tearDown(self):\n",
    "        print(\"Running tearDown\")\n",
    "        pass\n",
    "    \n",
    "    def test_get_csv_product(self):\n",
    "        print(\"Running test_get_csv_product\")\n",
    "        computed_product = self.csv_number_manipulator.get_csv_product()\n",
    "        expected_product = 120\n",
    "        self.assertEqual(computed_product, expected_product)\n",
    "        \n",
    "    def test_get_csv_quotient(self):\n",
    "        print(\"Running test_get_csv_quotient\")\n",
    "        computed_quotient = self.csv_number_manipulator.get_csv_quotient()\n",
    "        expected_quotient = 1./2/3/4/5\n",
    "        #TODO: assertAlmostEqual\n",
    "        self.assertEqual(computed_quotient, expected_quotient)\n",
    "\n",
    "    @classmethod\n",
    "    def tearDownClass(self):\n",
    "        print(\"Running tearDownClass\")\n",
    "        os.remove(\"numbers.csv\")"
   ]
  },
  {
   "cell_type": "code",
   "execution_count": null,
   "metadata": {
    "collapsed": false
   },
   "outputs": [],
   "source": [
    "test_suite = unittest.defaultTestLoader.loadTestsFromTestCase(TestCsvNumberManipulator)\n",
    "runner = unittest.TextTestRunner()\n",
    "print(\"Starting testing\")\n",
    "runner.run(test_suite)"
   ]
  },
  {
   "cell_type": "code",
   "execution_count": null,
   "metadata": {
    "collapsed": true
   },
   "outputs": [],
   "source": [
    "\"\"\"\n",
    "Exercise 2!\n",
    "\n",
    "What if a user tries to run get_csv_product or get_csv_quotient without running read_infile first?\n",
    "Add behavior in get_csv_product to check if the file has been loaded and generate an exception if it hasn't,\n",
    "and add a relevant test for that behavior to TestCsvNumberManipulator.\n",
    "You can use Python's hasattr(object, \"attributename\") to see if an object has an attribute\n",
    "\"\"\""
   ]
  }
 ],
 "metadata": {
  "kernelspec": {
   "display_name": "Python 2",
   "language": "python",
   "name": "python2"
  },
  "language_info": {
   "codemirror_mode": {
    "name": "ipython",
    "version": 2
   },
   "file_extension": ".py",
   "mimetype": "text/x-python",
   "name": "python",
   "nbconvert_exporter": "python",
   "pygments_lexer": "ipython2",
   "version": "2.7.10"
  }
 },
 "nbformat": 4,
 "nbformat_minor": 0
}
